{
 "cells": [
  {
   "cell_type": "code",
   "execution_count": null,
   "id": "1cffa255",
   "metadata": {},
   "outputs": [],
   "source": [
    "import boto3\n",
    "import os\n",
    "import pandas as pd\n",
    "import redshift_connector\n",
    "\n",
    "from config import table_to_fetch"
   ]
  },
  {
   "cell_type": "markdown",
   "id": "250af84d",
   "metadata": {},
   "source": [
    "## Set up and establish connection"
   ]
  },
  {
   "cell_type": "code",
   "execution_count": null,
   "id": "c909354e",
   "metadata": {},
   "outputs": [],
   "source": [
    "client = boto3.client('redshift-serverless')\n",
    "\n",
    "creds = client.get_credentials(\n",
    "    workgroupName='default'\n",
    ")\n",
    "\n",
    "conn = redshift_connector.connect(\n",
    "    host='acmecorp-cfn-demo-endpoint-endpoint-tvuxknj0hc5lueze2pff.147080935342.us-east-1.redshift-serverless.amazonaws.com',\n",
    "    port=5439,\n",
    "    database='sample_data_dev',\n",
    "    user=creds['dbUser'],\n",
    "    password=creds['dbPassword']\n",
    ")\n",
    "\n",
    "cursor = conn.cursor()"
   ]
  },
  {
   "cell_type": "markdown",
   "id": "2a5eb662",
   "metadata": {},
   "source": [
    "## List all tables in tickit table schema"
   ]
  },
  {
   "cell_type": "code",
   "execution_count": null,
   "id": "1255f338",
   "metadata": {},
   "outputs": [],
   "source": [
    "# Execute the SQL query to get all the table names\n",
    "cursor.execute(\"SELECT table_name FROM information_schema.tables WHERE table_schema='tickit'\")\n",
    "\n",
    "# Fetch all the results and print them out\n",
    "rows = cursor.fetchall()\n",
    "for row in rows:\n",
    "    print(row[0])"
   ]
  },
  {
   "cell_type": "markdown",
   "id": "5f59000c",
   "metadata": {},
   "source": [
    "## List all columns in specified table"
   ]
  },
  {
   "cell_type": "code",
   "execution_count": null,
   "id": "e0f4f54e",
   "metadata": {},
   "outputs": [],
   "source": [
    "cursor.execute(f\"SELECT column_name FROM information_schema.columns WHERE table_name = '{table_to_fetch}'\")\n",
    "rows = cursor.fetchall()\n",
    "for row in rows:\n",
    "    print(row[0])"
   ]
  },
  {
   "cell_type": "markdown",
   "id": "ee6b35a3",
   "metadata": {},
   "source": [
    "## Fetch table and create dataframe "
   ]
  },
  {
   "cell_type": "code",
   "execution_count": null,
   "id": "6e33d547",
   "metadata": {},
   "outputs": [],
   "source": [
    "cursor.execute(f\"SELECT * FROM tickit.{table_to_fetch}\")\n",
    "df = cursor.fetch_dataframe()"
   ]
  },
  {
   "cell_type": "markdown",
   "id": "e90c65c8",
   "metadata": {},
   "source": [
    "## Preview table and save it as csv in ../results"
   ]
  },
  {
   "cell_type": "code",
   "execution_count": null,
   "id": "92bcd854",
   "metadata": {},
   "outputs": [],
   "source": [
    "print(df.head())\n",
    "df.to_csv(f\"../results/{table_to_fetch}_table.csv\")  "
   ]
  },
  {
   "cell_type": "code",
   "execution_count": null,
   "id": "1d3b9f6b",
   "metadata": {},
   "outputs": [],
   "source": [
    "conn.close()"
   ]
  }
 ],
 "metadata": {
  "kernelspec": {
   "display_name": "Python 3",
   "language": "python",
   "name": "python3"
  },
  "language_info": {
   "codemirror_mode": {
    "name": "ipython",
    "version": 3
   },
   "file_extension": ".py",
   "mimetype": "text/x-python",
   "name": "python",
   "nbconvert_exporter": "python",
   "pygments_lexer": "ipython3",
   "version": "3.8.5"
  }
 },
 "nbformat": 4,
 "nbformat_minor": 5
}
